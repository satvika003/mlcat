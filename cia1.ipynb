{
 "cells": [
  {
   "cell_type": "code",
   "execution_count": 1,
   "id": "f58a534e",
   "metadata": {},
   "outputs": [],
   "source": [
    "from tensorflow.keras.datasets import cifar10"
   ]
  },
  {
   "cell_type": "code",
   "execution_count": 2,
   "id": "ef9b99ad",
   "metadata": {},
   "outputs": [],
   "source": [
    "from tensorflow.keras.models import Sequential\n",
    "from tensorflow.keras.layers import Conv2D,MaxPooling2D,Flatten,Dense"
   ]
  },
  {
   "cell_type": "code",
   "execution_count": 3,
   "id": "6353cfa9",
   "metadata": {},
   "outputs": [],
   "source": [
    "from keras.utils import to_categorical"
   ]
  },
  {
   "cell_type": "code",
   "execution_count": 33,
   "id": "c613e8f3",
   "metadata": {},
   "outputs": [],
   "source": [
    "(xtrain,ytrain),(xtest,ytest)=cifar10.load_data()"
   ]
  },
  {
   "cell_type": "code",
   "execution_count": 5,
   "id": "7103b5c1",
   "metadata": {},
   "outputs": [
    {
     "data": {
      "text/plain": [
       "(50000, 32, 32, 3)"
      ]
     },
     "execution_count": 5,
     "metadata": {},
     "output_type": "execute_result"
    }
   ],
   "source": [
    "xtrain.shape"
   ]
  },
  {
   "cell_type": "code",
   "execution_count": 6,
   "id": "cb781c2f",
   "metadata": {},
   "outputs": [
    {
     "data": {
      "text/plain": [
       "(10000, 32, 32, 3)"
      ]
     },
     "execution_count": 6,
     "metadata": {},
     "output_type": "execute_result"
    }
   ],
   "source": [
    "xtest.shape"
   ]
  },
  {
   "cell_type": "code",
   "execution_count": 7,
   "id": "c0702288",
   "metadata": {},
   "outputs": [
    {
     "data": {
      "text/plain": [
       "(50000, 1)"
      ]
     },
     "execution_count": 7,
     "metadata": {},
     "output_type": "execute_result"
    }
   ],
   "source": [
    "ytrain.shape"
   ]
  },
  {
   "cell_type": "code",
   "execution_count": 8,
   "id": "fae38d62",
   "metadata": {},
   "outputs": [
    {
     "data": {
      "text/plain": [
       "(10000, 1)"
      ]
     },
     "execution_count": 8,
     "metadata": {},
     "output_type": "execute_result"
    }
   ],
   "source": [
    "ytest.shape"
   ]
  },
  {
   "cell_type": "code",
   "execution_count": 9,
   "id": "9977bd0a",
   "metadata": {},
   "outputs": [],
   "source": [
    "ytrain=ytrain.reshape(-1,)\n",
    "ytest=ytest.reshape(-1,)"
   ]
  },
  {
   "cell_type": "code",
   "execution_count": 10,
   "id": "2b2c7b5e",
   "metadata": {},
   "outputs": [],
   "source": [
    "ytrain=to_categorical(ytrain)\n",
    "ytest=to_categorical(ytest)"
   ]
  },
  {
   "cell_type": "code",
   "execution_count": 11,
   "id": "caadad17",
   "metadata": {},
   "outputs": [],
   "source": [
    "import matplotlib.pyplot as plt"
   ]
  },
  {
   "cell_type": "code",
   "execution_count": 12,
   "id": "3cc4d7d0",
   "metadata": {},
   "outputs": [
    {
     "data": {
      "text/plain": [
       "<matplotlib.image.AxesImage at 0x18f0bc4be80>"
      ]
     },
     "execution_count": 12,
     "metadata": {},
     "output_type": "execute_result"
    },
    {
     "data": {
      "image/png": "[encoded data removed]",
      "text/plain": [
       "<Figure size 432x288 with 1 Axes>"
      ]
     },
     "metadata": {
      "needs_background": "light"
     },
     "output_type": "display_data"
    }
   ],
   "source": [
    "plt.imshow(xtrain[5])"
   ]
  },
  {
   "cell_type": "code",
   "execution_count": 13,
   "id": "35f9dd27",
   "metadata": {},
   "outputs": [
    {
     "data": {
      "text/plain": [
       "<matplotlib.image.AxesImage at 0x18f0c3e3f40>"
      ]
     },
     "execution_count": 13,
     "metadata": {},
     "output_type": "execute_result"
    },
    {
     "data": {
      "image/png": "[encoded data removed]",
      "text/plain": [
       "<Figure size 432x288 with 1 Axes>"
      ]
     },
     "metadata": {
      "needs_background": "light"
     },
     "output_type": "display_data"
    }
   ],
   "source": [
    "plt.imshow(xtrain[15])"
   ]
  },
  {
   "cell_type": "code",
   "execution_count": 14,
   "id": "4ee4d834",
   "metadata": {},
   "outputs": [
    {
     "data": {
      "text/plain": [
       "<matplotlib.image.AxesImage at 0x18f0c458df0>"
      ]
     },
     "execution_count": 14,
     "metadata": {},
     "output_type": "execute_result"
    },
    {
     "data": {
      "image/png": "[encoded data removed]",
      "text/plain": [
       "<Figure size 432x288 with 1 Axes>"
      ]
     },
     "metadata": {
      "needs_background": "light"
     },
     "output_type": "display_data"
    }
   ],
   "source": [
    "plt.imshow(xtrain[50])"
   ]
  },
  {
   "cell_type": "code",
   "execution_count": 15,
   "id": "c04f5041",
   "metadata": {},
   "outputs": [],
   "source": [
    "xtrain=xtrain/255.0"
   ]
  },
  {
   "cell_type": "code",
   "execution_count": 16,
   "id": "9e436cda",
   "metadata": {},
   "outputs": [],
   "source": [
    "model=Sequential([\n",
    "    Conv2D(32,(4,4),activation='relu',input_shape=(32,32,3)),\n",
    "    MaxPooling2D((3,3)),\n",
    "    Conv2D(32,(4,4),activation='relu'),\n",
    "    MaxPooling2D((3,3)),\n",
    "    Conv2D(32,(4,4),activation='relu'),\n",
    "    Flatten(),\n",
    "    Dense(100,activation='relu'),\n",
    "    Dense(10,activation='softmax')\n",
    "])"
   ]
  },
  {
   "cell_type": "code",
   "execution_count": 17,
   "id": "99c92c94",
   "metadata": {},
   "outputs": [],
   "source": [
    "model.compile(optimizer='adam',metrics=['accuracy'],loss='categorical_crossentropy')"
   ]
  },
  {
   "cell_type": "code",
   "execution_count": 18,
   "id": "7b3a0efd",
   "metadata": {},
   "outputs": [
    {
     "name": "stdout",
     "output_type": "stream",
     "text": [
      "Epoch 1/50\n",
      "1563/1563 [==============================] - 50s 30ms/step - loss: 1.6218 - accuracy: 0.4029\n",
      "Epoch 2/50\n",
      "1563/1563 [==============================] - 46s 29ms/step - loss: 1.3024 - accuracy: 0.5355\n",
      "Epoch 3/50\n",
      "1563/1563 [==============================] - 45s 29ms/step - loss: 1.1965 - accuracy: 0.5764\n",
      "Epoch 4/50\n",
      "1563/1563 [==============================] - 47s 30ms/step - loss: 1.1214 - accuracy: 0.6047\n",
      "Epoch 5/50\n",
      "1563/1563 [==============================] - 45s 29ms/step - loss: 1.0593 - accuracy: 0.6259\n",
      "Epoch 6/50\n",
      "1563/1563 [==============================] - 44s 28ms/step - loss: 1.0125 - accuracy: 0.6434\n",
      "Epoch 7/50\n",
      "1563/1563 [==============================] - 46s 29ms/step - loss: 0.9778 - accuracy: 0.6549\n",
      "Epoch 8/50\n",
      "1563/1563 [==============================] - 46s 29ms/step - loss: 0.9431 - accuracy: 0.6699\n",
      "Epoch 9/50\n",
      "1563/1563 [==============================] - 46s 29ms/step - loss: 0.9174 - accuracy: 0.6769\n",
      "Epoch 10/50\n",
      "1563/1563 [==============================] - 45s 29ms/step - loss: 0.8915 - accuracy: 0.6843\n",
      "Epoch 11/50\n",
      "1563/1563 [==============================] - 45s 29ms/step - loss: 0.8728 - accuracy: 0.6918\n",
      "Epoch 12/50\n",
      "1563/1563 [==============================] - 45s 29ms/step - loss: 0.8516 - accuracy: 0.7010\n",
      "Epoch 13/50\n",
      "1563/1563 [==============================] - 45s 29ms/step - loss: 0.8396 - accuracy: 0.7047\n",
      "Epoch 14/50\n",
      "1563/1563 [==============================] - 43s 28ms/step - loss: 0.8205 - accuracy: 0.7110\n",
      "Epoch 15/50\n",
      "1563/1563 [==============================] - 44s 28ms/step - loss: 0.7989 - accuracy: 0.7177\n",
      "Epoch 16/50\n",
      "1563/1563 [==============================] - 45s 29ms/step - loss: 0.7851 - accuracy: 0.7230\n",
      "Epoch 17/50\n",
      "1563/1563 [==============================] - 45s 29ms/step - loss: 0.7737 - accuracy: 0.7279\n",
      "Epoch 18/50\n",
      "1563/1563 [==============================] - 44s 28ms/step - loss: 0.7571 - accuracy: 0.7333\n",
      "Epoch 19/50\n",
      "1563/1563 [==============================] - 45s 29ms/step - loss: 0.7467 - accuracy: 0.7368\n",
      "Epoch 20/50\n",
      "1563/1563 [==============================] - 45s 29ms/step - loss: 0.7307 - accuracy: 0.7422\n",
      "Epoch 21/50\n",
      "1563/1563 [==============================] - 45s 29ms/step - loss: 0.7184 - accuracy: 0.7456\n",
      "Epoch 22/50\n",
      "1563/1563 [==============================] - 45s 29ms/step - loss: 0.7085 - accuracy: 0.7519\n",
      "Epoch 23/50\n",
      "1563/1563 [==============================] - 44s 28ms/step - loss: 0.6980 - accuracy: 0.7548\n",
      "Epoch 24/50\n",
      "1563/1563 [==============================] - 44s 28ms/step - loss: 0.6890 - accuracy: 0.7582\n",
      "Epoch 25/50\n",
      "1563/1563 [==============================] - 44s 28ms/step - loss: 0.6818 - accuracy: 0.7604\n",
      "Epoch 26/50\n",
      "1563/1563 [==============================] - 45s 29ms/step - loss: 0.6704 - accuracy: 0.7634\n",
      "Epoch 27/50\n",
      "1563/1563 [==============================] - 44s 28ms/step - loss: 0.6634 - accuracy: 0.7663\n",
      "Epoch 28/50\n",
      "1563/1563 [==============================] - 43s 28ms/step - loss: 0.6553 - accuracy: 0.7678\n",
      "Epoch 29/50\n",
      "1563/1563 [==============================] - 43s 28ms/step - loss: 0.6482 - accuracy: 0.7719\n",
      "Epoch 30/50\n",
      "1563/1563 [==============================] - 43s 28ms/step - loss: 0.6388 - accuracy: 0.7737\n",
      "Epoch 31/50\n",
      "1563/1563 [==============================] - 44s 28ms/step - loss: 0.6331 - accuracy: 0.7774\n",
      "Epoch 32/50\n",
      "1563/1563 [==============================] - 43s 28ms/step - loss: 0.6205 - accuracy: 0.7805\n",
      "Epoch 33/50\n",
      "1563/1563 [==============================] - 43s 27ms/step - loss: 0.6192 - accuracy: 0.7818\n",
      "Epoch 34/50\n",
      "1563/1563 [==============================] - 43s 27ms/step - loss: 0.6101 - accuracy: 0.7838\n",
      "Epoch 35/50\n",
      "1563/1563 [==============================] - 44s 28ms/step - loss: 0.6027 - accuracy: 0.7873\n",
      "Epoch 36/50\n",
      "1563/1563 [==============================] - 43s 28ms/step - loss: 0.5935 - accuracy: 0.7896\n",
      "Epoch 37/50\n",
      "1563/1563 [==============================] - 43s 28ms/step - loss: 0.5904 - accuracy: 0.7898\n",
      "Epoch 38/50\n",
      "1563/1563 [==============================] - 44s 28ms/step - loss: 0.5862 - accuracy: 0.7913\n",
      "Epoch 39/50\n",
      "1563/1563 [==============================] - 42s 27ms/step - loss: 0.5793 - accuracy: 0.7939\n",
      "Epoch 40/50\n",
      "1563/1563 [==============================] - 43s 28ms/step - loss: 0.5737 - accuracy: 0.7940\n",
      "Epoch 41/50\n",
      "1563/1563 [==============================] - 43s 28ms/step - loss: 0.5676 - accuracy: 0.7981\n",
      "Epoch 42/50\n",
      "1563/1563 [==============================] - 43s 28ms/step - loss: 0.5678 - accuracy: 0.7978\n",
      "Epoch 43/50\n",
      "1563/1563 [==============================] - 43s 28ms/step - loss: 0.5564 - accuracy: 0.8010\n",
      "Epoch 44/50\n",
      "1563/1563 [==============================] - 44s 28ms/step - loss: 0.5536 - accuracy: 0.8027\n",
      "Epoch 45/50\n",
      "1563/1563 [==============================] - 43s 28ms/step - loss: 0.5503 - accuracy: 0.8058\n",
      "Epoch 46/50\n",
      "1563/1563 [==============================] - 43s 27ms/step - loss: 0.5432 - accuracy: 0.8077\n",
      "Epoch 47/50\n",
      "1563/1563 [==============================] - 43s 28ms/step - loss: 0.5410 - accuracy: 0.8074\n",
      "Epoch 48/50\n",
      "1563/1563 [==============================] - 43s 28ms/step - loss: 0.5364 - accuracy: 0.8082\n",
      "Epoch 49/50\n",
      "1563/1563 [==============================] - 43s 28ms/step - loss: 0.5287 - accuracy: 0.8104\n",
      "Epoch 50/50\n",
      "1563/1563 [==============================] - 42s 27ms/step - loss: 0.5334 - accuracy: 0.8079\n"
     ]
    }
   ],
   "source": [
    "history=model.fit(xtrain,ytrain,epochs=50,batch_size=32)"
   ]
  },
  {
   "cell_type": "code",
   "execution_count": 19,
   "id": "358a17cf",
   "metadata": {},
   "outputs": [],
   "source": [
    "loss=history.history['loss']\n",
    "acc=history.history['accuracy'] "
   ]
  },
  {
   "cell_type": "code",
   "execution_count": 20,
   "id": "462240e8",
   "metadata": {},
   "outputs": [
    {
     "data": {
      "text/plain": [
       "[<matplotlib.lines.Line2D at 0x18f026ce340>]"
      ]
     },
     "execution_count": 20,
     "metadata": {},
     "output_type": "execute_result"
    },
    {
     "data": {
      "image/png": "[encoded data removed]",
      "text/plain": [
       "<Figure size 432x288 with 1 Axes>"
      ]
     },
     "metadata": {
      "needs_background": "light"
     },
     "output_type": "display_data"
    }
   ],
   "source": [
    "import matplotlib.pyplot as plt\n",
    "plt.plot(loss,acc)"
   ]
  },
  {
   "cell_type": "code",
   "execution_count": 21,
   "id": "2130a59d",
   "metadata": {},
   "outputs": [],
   "source": [
    "xtest=xtest/255.0"
   ]
  },
  {
   "cell_type": "code",
   "execution_count": 22,
   "id": "daf939f9",
   "metadata": {},
   "outputs": [
    {
     "name": "stdout",
     "output_type": "stream",
     "text": [
      "313/313 [==============================] - 4s 11ms/step - loss: 1.1111 - accuracy: 0.6753\n"
     ]
    },
    {
     "data": {
      "text/plain": [
       "[1.1110845804214478, 0.6753000020980835]"
      ]
     },
     "execution_count": 22,
     "metadata": {},
     "output_type": "execute_result"
    }
   ],
   "source": [
    "model.evaluate(xtest,ytest)"
   ]
  },
  {
   "cell_type": "code",
   "execution_count": 23,
   "id": "dfbc84b8",
   "metadata": {},
   "outputs": [
    {
     "name": "stdout",
     "output_type": "stream",
     "text": [
      "1/1 [==============================] - 0s 491ms/step\n",
      "[[2.3090873e-04 9.9048537e-01 1.2177646e-06 8.2447878e-06 2.8849598e-07\n",
      "  2.1479916e-06 8.8804991e-05 1.5352045e-04 1.4308074e-05 9.0152686e-03]]\n"
     ]
    }
   ],
   "source": [
    "print(model.predict(xtrain[5].reshape(1,32,32,3)))"
   ]
  },
  {
   "cell_type": "markdown",
   "id": "92277db7",
   "metadata": {},
   "source": [
    "Classes:\n",
    "1) 0: airplane\n",
    "2) 1: automobile\n",
    "3) 2: bird\n",
    "4) 3: cat\n",
    "5) 4: deer\n",
    "6) 5: dog\n",
    "7) 6: frog\n",
    "8) 7: horse\n",
    "9) 8: ship\n",
    "10) 9: truck"
   ]
  },
  {
   "cell_type": "code",
   "execution_count": 24,
   "id": "7701fb52",
   "metadata": {},
   "outputs": [],
   "source": [
    "def pred(n):\n",
    "    if n==0:\n",
    "        print('airplane')\n",
    "    elif n==1:\n",
    "        print('automobile')\n",
    "    elif n==2:\n",
    "        print('bird')\n",
    "    elif n==3:\n",
    "        print('cat')\n",
    "    elif n==4:\n",
    "        print('deer')\n",
    "    elif n==5:\n",
    "        print('dog')\n",
    "    elif n==6:\n",
    "        print('frog')\n",
    "    elif n==7:\n",
    "        print('horse')\n",
    "    elif n==8:\n",
    "        print('ship')\n",
    "    elif n==9:\n",
    "        print('truck')"
   ]
  },
  {
   "cell_type": "code",
   "execution_count": 25,
   "id": "8ea7ebae",
   "metadata": {},
   "outputs": [
    {
     "name": "stdout",
     "output_type": "stream",
     "text": [
      "1/1 [==============================] - 0s 113ms/step\n"
     ]
    }
   ],
   "source": [
    "t1=model.predict(xtrain[15].reshape(1,32,32,3))"
   ]
  },
  {
   "cell_type": "code",
   "execution_count": 26,
   "id": "10c00440",
   "metadata": {},
   "outputs": [],
   "source": [
    "import pandas"
   ]
  },
  {
   "cell_type": "code",
   "execution_count": 27,
   "id": "5244921e",
   "metadata": {},
   "outputs": [
    {
     "name": "stdout",
     "output_type": "stream",
     "text": [
      "truck\n"
     ]
    }
   ],
   "source": [
    "pred(pandas.Series(t1[0]).idxmax())"
   ]
  },
  {
   "cell_type": "code",
   "execution_count": 28,
   "id": "7eb85003",
   "metadata": {},
   "outputs": [],
   "source": [
    "xtest=xtest*255.0"
   ]
  },
  {
   "cell_type": "code",
   "execution_count": 35,
   "id": "7a26219b",
   "metadata": {},
   "outputs": [
    {
     "data": {
      "text/plain": [
       "<matplotlib.image.AxesImage at 0x18f0971c670>"
      ]
     },
     "execution_count": 35,
     "metadata": {},
     "output_type": "execute_result"
    },
    {
     "data": {
      "image/png": "[encoded data removed]",
      "text/plain": [
       "<Figure size 432x288 with 1 Axes>"
      ]
     },
     "metadata": {
      "needs_background": "light"
     },
     "output_type": "display_data"
    }
   ],
   "source": [
    "plt.imshow(xtest[18])"
   ]
  },
  {
   "cell_type": "code",
   "execution_count": 36,
   "id": "ec6bb465",
   "metadata": {},
   "outputs": [
    {
     "name": "stdout",
     "output_type": "stream",
     "text": [
      "1/1 [==============================] - 0s 353ms/step\n"
     ]
    }
   ],
   "source": [
    "t2=model.predict(xtest[18].reshape(1,32,32,3))"
   ]
  },
  {
   "cell_type": "code",
   "execution_count": 38,
   "id": "4cc87c16",
   "metadata": {},
   "outputs": [
    {
     "name": "stdout",
     "output_type": "stream",
     "text": [
      "ship\n"
     ]
    }
   ],
   "source": [
    "pred(pandas.Series(t2[0]).idxmax())"
   ]
  },
  {
   "cell_type": "code",
   "execution_count": 45,
   "id": "15172e46",
   "metadata": {},
   "outputs": [
    {
     "data": {
      "text/plain": [
       "<matplotlib.image.AxesImage at 0x18f098df040>"
      ]
     },
     "execution_count": 45,
     "metadata": {},
     "output_type": "execute_result"
    },
    {
     "data": {
      "image/png": "[encoded data removed]",
      "text/plain": [
       "<Figure size 432x288 with 1 Axes>"
      ]
     },
     "metadata": {
      "needs_background": "light"
     },
     "output_type": "display_data"
    }
   ],
   "source": [
    "plt.imshow(xtest[23])"
   ]
  },
  {
   "cell_type": "code",
   "execution_count": 47,
   "id": "d11856ff",
   "metadata": {},
   "outputs": [
    {
     "name": "stdout",
     "output_type": "stream",
     "text": [
      "1/1 [==============================] - 0s 104ms/step\n"
     ]
    }
   ],
   "source": [
    "t3=model.predict(xtest[23].reshape(1,32,32,3))"
   ]
  },
  {
   "cell_type": "code",
   "execution_count": 48,
   "id": "7af542dd",
   "metadata": {},
   "outputs": [
    {
     "name": "stdout",
     "output_type": "stream",
     "text": [
      "truck\n"
     ]
    }
   ],
   "source": [
    "pred(pandas.Series(t3[0]).idxmax())"
   ]
  },
  {
   "cell_type": "code",
   "execution_count": 55,
   "id": "850e578c",
   "metadata": {},
   "outputs": [
    {
     "data": {
      "text/plain": [
       "<matplotlib.image.AxesImage at 0x18f09ae7220>"
      ]
     },
     "execution_count": 55,
     "metadata": {},
     "output_type": "execute_result"
    },
    {
     "data": {
      "image/png": "[encoded data removed]",
      "text/plain": [
       "<Figure size 432x288 with 1 Axes>"
      ]
     },
     "metadata": {
      "needs_background": "light"
     },
     "output_type": "display_data"
    }
   ],
   "source": [
    "plt.imshow(xtest[188])"
   ]
  },
  {
   "cell_type": "code",
   "execution_count": 56,
   "id": "a2baeb20",
   "metadata": {},
   "outputs": [
    {
     "name": "stdout",
     "output_type": "stream",
     "text": [
      "1/1 [==============================] - 0s 52ms/step\n"
     ]
    }
   ],
   "source": [
    "t4=model.predict(xtest[65].reshape(1,32,32,3))"
   ]
  },
  {
   "cell_type": "code",
   "execution_count": 57,
   "id": "801c859d",
   "metadata": {},
   "outputs": [
    {
     "name": "stdout",
     "output_type": "stream",
     "text": [
      "horse\n"
     ]
    }
   ],
   "source": [
    "pred(pandas.Series(t4[0]).idxmax())"
   ]
  },
  {
   "cell_type": "code",
   "execution_count": 87,
   "id": "9450aba4",
   "metadata": {},
   "outputs": [
    {
     "data": {
      "text/plain": [
       "<matplotlib.image.AxesImage at 0x18f0af22a90>"
      ]
     },
     "execution_count": 87,
     "metadata": {},
     "output_type": "execute_result"
    },
    {
     "data": {
      "image/png": "[encoded data removed]",
      "text/plain": [
       "<Figure size 432x288 with 1 Axes>"
      ]
     },
     "metadata": {
      "needs_background": "light"
     },
     "output_type": "display_data"
    }
   ],
   "source": [
    "plt.imshow(xtest[345])"
   ]
  },
  {
   "cell_type": "code",
   "execution_count": 88,
   "id": "8a513906",
   "metadata": {},
   "outputs": [
    {
     "name": "stdout",
     "output_type": "stream",
     "text": [
      "1/1 [==============================] - 0s 51ms/step\n"
     ]
    }
   ],
   "source": [
    "t5=model.predict(xtest[345].reshape(1,32,32,3))"
   ]
  },
  {
   "cell_type": "code",
   "execution_count": 89,
   "id": "a1da71b6",
   "metadata": {},
   "outputs": [
    {
     "name": "stdout",
     "output_type": "stream",
     "text": [
      "dog\n"
     ]
    }
   ],
   "source": [
    "pred(pandas.Series(t5[0]).idxmax())"
   ]
  },
  {
   "cell_type": "code",
   "execution_count": null,
   "id": "d8686b95",
   "metadata": {},
   "outputs": [],
   "source": []
  }
 ],
 "metadata": {
  "kernelspec": {
   "display_name": "Python 3 (ipykernel)",
   "language": "python",
   "name": "python3"
  },
  "language_info": {
   "codemirror_mode": {
    "name": "ipython",
    "version": 3
   },
   "file_extension": ".py",
   "mimetype": "text/x-python",
   "name": "python",
   "nbconvert_exporter": "python",
   "pygments_lexer": "ipython3",
   "version": "3.9.12"
  }
 },
 "nbformat": 4,
 "nbformat_minor": 5
}
